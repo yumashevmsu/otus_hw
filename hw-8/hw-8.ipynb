{
 "cells": [
  {
   "cell_type": "code",
   "execution_count": 25,
   "id": "69327d40",
   "metadata": {},
   "outputs": [],
   "source": [
    "import torch\n",
    "import os\n",
    "import random\n",
    "import numpy as np\n",
    "from torch.utils.data import Dataset, DataLoader\n",
    "import torch.nn as nn\n",
    "from tqdm import tqdm\n",
    "import matplotlib.pyplot as plt\n",
    "from torchvision import transforms\n",
    "import math\n",
    "from sklearn.metrics import mean_squared_error\n"
   ]
  },
  {
   "cell_type": "code",
   "execution_count": 2,
   "id": "4c2979db",
   "metadata": {},
   "outputs": [],
   "source": [
    "inf = -10\n",
    "sup = 10\n",
    "\n",
    "segments_x = 100\n",
    "segments_y = 200\n",
    "step_x = (sup - inf)/segments_x\n",
    "step_y = (sup - inf)/segments_y\n",
    "\n",
    "data = np.zeros((segments_x*segments_y, 3))"
   ]
  },
  {
   "cell_type": "code",
   "execution_count": 3,
   "id": "30cd1479",
   "metadata": {},
   "outputs": [],
   "source": [
    "for i in range(segments_x):\n",
    "    for j in range(segments_y):\n",
    "        data[i*segments_y + j][0] = inf+i*step_x\n",
    "        data[i*segments_y + j][1] = inf+j*step_y\n",
    "        data[i*segments_y + j][2] = math.sin(inf+i*step_x + 2*(inf+j*step_y))*math.exp(-(2*(inf+i*step_x) + (inf+j*step_y))**2)\n",
    "        "
   ]
  },
  {
   "cell_type": "code",
   "execution_count": 4,
   "id": "e10957a8",
   "metadata": {},
   "outputs": [
    {
     "data": {
      "text/plain": [
       "array([[-10. , -10. ,   0. ],\n",
       "       [-10. ,  -9.9,   0. ],\n",
       "       [-10. ,  -9.8,   0. ],\n",
       "       ...,\n",
       "       [  9.8,   9.7,  -0. ],\n",
       "       [  9.8,   9.8,  -0. ],\n",
       "       [  9.8,   9.9,  -0. ]])"
      ]
     },
     "execution_count": 4,
     "metadata": {},
     "output_type": "execute_result"
    }
   ],
   "source": [
    "data"
   ]
  },
  {
   "cell_type": "code",
   "execution_count": 6,
   "id": "5d56353b",
   "metadata": {},
   "outputs": [],
   "source": [
    "from sklearn.model_selection import train_test_split\n",
    "\n",
    "X_train, X_test, y_train, y_test = train_test_split(data[:, :2], \n",
    "                                                    data[:, 2], \n",
    "                                                    test_size=0.3, \n",
    "                                                    shuffle=True)\n",
    "\n",
    "train_dataset = np.zeros((X_train.shape[0], 3))\n",
    "train_dataset[:, :2] = X_train\n",
    "train_dataset[:, 2] = y_train\n",
    "\n",
    "test_dataset = np.zeros((X_test.shape[0], 3))\n",
    "test_dataset[:, :2] = X_test\n",
    "test_dataset[:, 2] = y_test\n",
    "\n",
    "train_dataset = torch.from_numpy(train_dataset)\n",
    "test_dataset = torch.from_numpy(test_dataset)"
   ]
  },
  {
   "cell_type": "code",
   "execution_count": 9,
   "id": "72ea0c1f",
   "metadata": {},
   "outputs": [],
   "source": [
    "batch_size = 20\n",
    "\n",
    "train_loader = torch.utils.data.DataLoader(train_dataset, batch_size=batch_size)\n",
    "test_loader = torch.utils.data.DataLoader(test_dataset, batch_size=batch_size)"
   ]
  },
  {
   "cell_type": "code",
   "execution_count": 10,
   "id": "f872f373",
   "metadata": {},
   "outputs": [],
   "source": [
    "class FNet(torch.nn.Module):\n",
    "    def __init__(self, n_hidden_neurons):\n",
    "        super(FNet, self).__init__()\n",
    "        \n",
    "        self.fc1 = torch.nn.Linear(2, n_hidden_neurons)\n",
    "        self.activ1 = torch.nn.Sigmoid()\n",
    "        self.fc2 = torch.nn.Linear(n_hidden_neurons, n_hidden_neurons)\n",
    "        self.activ2 = torch.nn.Sigmoid()\n",
    "        self.fc3 = torch.nn.Linear(n_hidden_neurons, 1)\n",
    "        self.sm = torch.nn.Softmax(dim=1)\n",
    "        \n",
    "    def forward(self, x):\n",
    "        x = self.fc1(x)\n",
    "        x = self.activ1(x)\n",
    "        x = self.fc2(x)\n",
    "        x = self.activ2(x)\n",
    "        x = self.fc3(x)\n",
    "        return x\n",
    "\n",
    "    def inference(self, x):\n",
    "        x = self.forward(x)\n",
    "        x = self.sm(x)\n",
    "        return x\n",
    "    \n",
    "f_net = FNet(10)"
   ]
  },
  {
   "cell_type": "code",
   "execution_count": 14,
   "id": "b1fdc88c",
   "metadata": {},
   "outputs": [],
   "source": [
    "criterion = torch.nn.CrossEntropyLoss()\n",
    "optimizer = torch.optim.Adam(f_net.parameters(), lr=1.0e-3)"
   ]
  },
  {
   "cell_type": "code",
   "execution_count": 18,
   "id": "6ac899e2",
   "metadata": {},
   "outputs": [],
   "source": [
    "device = torch.device('cuda' if torch.cuda.is_available() else 'cpu')\n",
    "f_net = f_net.to(device)"
   ]
  },
  {
   "cell_type": "code",
   "execution_count": 22,
   "id": "60051394",
   "metadata": {},
   "outputs": [
    {
     "name": "stderr",
     "output_type": "stream",
     "text": [
      "100%|████████████████████████████████████████████████████████████████████████████████| 500/500 [19:31<00:00,  2.34s/it]\n"
     ]
    }
   ],
   "source": [
    "epochs = 500\n",
    "history = []\n",
    "\n",
    "f_net.train(True)\n",
    "for i in tqdm(range(epochs)):\n",
    "    epoch_loss = []\n",
    "    # Iterate over batches\n",
    "    for batch in train_loader:\n",
    "        optimizer.zero_grad() # Do not forget this!\n",
    "        # Forward\n",
    "        x = batch[:, :2].float().to(device)\n",
    "        y = batch[:, 2].long().to(device)\n",
    "        pred_y = f_net(x)\n",
    "\n",
    "        # Compute loss\n",
    "        loss = criterion(pred_y, y)\n",
    "        epoch_loss.append(loss.item())\n",
    "\n",
    "        # Backward: propagate gradients\n",
    "        loss.backward()\n",
    "        \n",
    "        # Update\n",
    "        optimizer.step()\n",
    "    if i % 10 == 0:\n",
    "      history.append(np.array(epoch_loss).mean())"
   ]
  },
  {
   "cell_type": "code",
   "execution_count": 33,
   "id": "c68f33c8",
   "metadata": {},
   "outputs": [],
   "source": [
    "f_net.train(False)\n",
    "\n",
    "test_preds = []\n",
    "test_labels = []\n",
    "for batch in test_loader:\n",
    "    x = batch[:, :2].float().to(device)\n",
    "    y = batch[:, 2].float()\n",
    "      \n",
    "    test_labels += list(y)\n",
    "    test_preds += list(f_net.inference(x).detach().numpy())"
   ]
  },
  {
   "cell_type": "code",
   "execution_count": 34,
   "id": "0daf4c76",
   "metadata": {},
   "outputs": [
    {
     "name": "stdout",
     "output_type": "stream",
     "text": [
      "1.0173068\n"
     ]
    }
   ],
   "source": [
    "print(mean_squared_error(test_labels, test_preds))"
   ]
  },
  {
   "cell_type": "code",
   "execution_count": 40,
   "id": "bdc9bd41",
   "metadata": {},
   "outputs": [
    {
     "data": {
      "text/plain": [
       "<mpl_toolkits.mplot3d.art3d.Path3DCollection at 0x18bcd552c20>"
      ]
     },
     "execution_count": 40,
     "metadata": {},
     "output_type": "execute_result"
    },
    {
     "data": {
      "image/png": "[encoded data removed]",
      "text/plain": [
       "<Figure size 432x288 with 1 Axes>"
      ]
     },
     "metadata": {
      "needs_background": "light"
     },
     "output_type": "display_data"
    }
   ],
   "source": [
    "from mpl_toolkits.mplot3d import Axes3D\n",
    "\n",
    "fig = plt.figure()\n",
    "ax = fig.add_subplot(111, projection='3d')\n",
    "ax.scatter(xs = test_dataset[:,0], ys = test_dataset[:,1], zs = test_dataset[:, 2])"
   ]
  },
  {
   "cell_type": "code",
   "execution_count": 41,
   "id": "7e7eb828",
   "metadata": {},
   "outputs": [
    {
     "data": {
      "text/plain": [
       "<mpl_toolkits.mplot3d.art3d.Path3DCollection at 0x18bcd5dafe0>"
      ]
     },
     "execution_count": 41,
     "metadata": {},
     "output_type": "execute_result"
    },
    {
     "data": {
      "image/png": "[encoded data removed]",
      "text/plain": [
       "<Figure size 432x288 with 1 Axes>"
      ]
     },
     "metadata": {
      "needs_background": "light"
     },
     "output_type": "display_data"
    }
   ],
   "source": [
    "fig = plt.figure()\n",
    "ax = fig.add_subplot(111, projection='3d')\n",
    "ax.scatter(xs = test_dataset[:,0], ys = test_dataset[:,1], zs = test_preds)"
   ]
  },
  {
   "cell_type": "code",
   "execution_count": null,
   "id": "a178e03a",
   "metadata": {},
   "outputs": [],
   "source": []
  }
 ],
 "metadata": {
  "kernelspec": {
   "display_name": "Python 3 (ipykernel)",
   "language": "python",
   "name": "python3"
  },
  "language_info": {
   "codemirror_mode": {
    "name": "ipython",
    "version": 3
   },
   "file_extension": ".py",
   "mimetype": "text/x-python",
   "name": "python",
   "nbconvert_exporter": "python",
   "pygments_lexer": "ipython3",
   "version": "3.10.1"
  }
 },
 "nbformat": 4,
 "nbformat_minor": 5
}
